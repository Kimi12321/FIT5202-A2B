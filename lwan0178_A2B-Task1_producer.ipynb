{
 "cells": [
  {
   "cell_type": "markdown",
   "metadata": {},
   "source": [
    "# 1. Producing the data  \n",
    "In this task, we will implement Apache Kafka producers to simulate real-time data streaming. Spark is not required in this part since it’s simulating a streaming data source.  \n",
    "  \n",
    "1.\tYour program should send one batch of order data every 5 seconds. One batch consists of a random 20-50 rows (i.e. orders) from the new_order.csv. The CSV shouldn’t be loaded to memory at once to conserve memory (i.e. Read row as needed).   \n",
    "(note: you can read the file sequentially; only the number of rows is random.)  \n",
    "2.\tUpdate order_ts to the current timestamp and spread your batch out evenly for 5 seconds. Update ready_ts if necessary (when you use it in your ML model).  \n",
    "a.\tFor example, assume you send a batch of 50 records at 2025-01-26 00:00:00 (ISO format: YYYY-MM-DD HH:MM:SS) -> (ts = 1737810000):  \n",
    "-\tRecord 1-10: ts = 1737810000\n",
    "-\tRecord 11-20: ts = 1737810001\n",
    "-\tRecord 21-30: ts = 1737810002\n",
    "-\t….  \n",
    "3.\tSet the delivery_persion_id and delivery_time to null (because the order just came in, we haven’t assigned a delivery person yet).  \n",
    "4.\tSend your order batch to a Kafka topic with an appropriate name.  \n",
    "5.\tEvery 5 seconds, randomly select 50 drivers from the driver dataset, send it to another Kafka topic. (note: this simplifies the application, ensuring all orders have at least one available driver.)  \n",
    "\n"
   ]
  },
  {
   "cell_type": "code",
   "execution_count": null,
   "metadata": {},
   "outputs": [],
   "source": [
    "\n"
   ]
  }
 ],
 "metadata": {
  "kernelspec": {
   "display_name": "pyspark",
   "language": "python",
   "name": "python3"
  },
  "language_info": {
   "codemirror_mode": {
    "name": "ipython",
    "version": 3
   },
   "file_extension": ".py",
   "mimetype": "text/x-python",
   "name": "python",
   "nbconvert_exporter": "python",
   "pygments_lexer": "ipython3",
   "version": "3.12.3"
  }
 },
 "nbformat": 4,
 "nbformat_minor": 4
}
