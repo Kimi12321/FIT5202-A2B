{
 "cells": [
  {
   "cell_type": "markdown",
   "metadata": {},
   "source": [
    "## Consuming data using Kafka and Visualise (20%)\n",
    "In this task, we will implement an Apache Kafka consumer to consume the data from Part 2.  \n",
    "  \n",
    "Important:   \n",
    "-\tIn this part, Kafka consumers are used to consume the streaming data published from task 2.8.  \n",
    "-\tThis visualisation part doesn’t require parallel processing, so please do not use Spark. It’s OK to use Pandas or any Python library to do simple calculations for the visualisation.  "
   ]
  },
  {
   "cell_type": "code",
   "execution_count": null,
   "metadata": {},
   "outputs": [],
   "source": [
    "# Consumer"
   ]
  },
  {
   "cell_type": "markdown",
   "metadata": {},
   "source": [
    "## 1. (Basic plot) Plot a diagram to show data from 6a (i.e. every 15 seconds, plot the total number of revenues for each type of order.) You are free to choose the type of plot."
   ]
  },
  {
   "cell_type": "code",
   "execution_count": null,
   "metadata": {},
   "outputs": [],
   "source": []
  },
  {
   "cell_type": "markdown",
   "metadata": {},
   "source": [
    "### 2.\t(Advanced plot) Plot a choropleth or bubble map to visualise data from 6b (restaurant’s suburb-based order count for <=15 and >15 minutes; you may use different colors or subplots.).  \n",
    "Choropleth: https://python-graph-gallery.com/choropleth-map/  \n",
    "Bubble Map: https://python-graph-gallery.com/bubble-map/  \n",
    "Note: Both plots shall be real-time plots, which will be updated if new streaming data comes in from part 2. For the advanced plot, if you need additional data for the plots, you can add them in part 2.  "
   ]
  },
  {
   "cell_type": "code",
   "execution_count": null,
   "metadata": {},
   "outputs": [],
   "source": []
  }
 ],
 "metadata": {
  "kernelspec": {
   "display_name": "Python 3 (ipykernel)",
   "language": "python",
   "name": "python3"
  },
  "language_info": {
   "codemirror_mode": {
    "name": "ipython",
    "version": 3
   },
   "file_extension": ".py",
   "mimetype": "text/x-python",
   "name": "python",
   "nbconvert_exporter": "python",
   "pygments_lexer": "ipython3",
   "version": "3.10.11"
  },
  "vscode": {
   "interpreter": {
    "hash": "5c7b89af1651d0b8571dde13640ecdccf7d5a6204171d6ab33e7c296e100e08a"
   }
  }
 },
 "nbformat": 4,
 "nbformat_minor": 4
}
